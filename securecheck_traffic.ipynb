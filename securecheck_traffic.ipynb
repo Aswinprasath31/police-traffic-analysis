{
  "cells": [
    {
      "cell_type": "markdown",
      "metadata": {},
      "source": [
        "## Part 1: Python for Data Processing"
      ]
    },
    {
      "cell_type": "code",
      "execution_count": null,
      "metadata": {},
      "outputs": [],
      "source": [
        "import pandas as pd\n",
        "from sqlalchemy import create_engine\n",
        "\n",
        "# Load the dataset\n",
        "ts = pd.read_excel('traffic_stops (2).xlsx')"
      ]
    },
    {
      "cell_type": "markdown",
      "metadata": {},
      "source": [
        "### Data Exploration and Cleaning"
      ]
    },
    {
      "cell_type": "code",
      "execution_count": null,
      "metadata": {},
      "outputs": [],
      "source": [
        "print(\"Shape of dataset:\", ts.shape)\n",
        "print(\"\\nColumns:\", ts.columns.tolist())\n",
        "ts.info()\n",
        "\n",
        "# Drop columns that only contain missing values\n",
        "ts.dropna(axis=1, how='all', inplace=True)\n",
        "\n",
        "# Drop rows with any remaining missing values\n",
        "ts.dropna(inplace=True)\n",
        "\n",
        "# Verify that missing values are handled\n",
        "print(\"\\nMissing values after cleaning:\")\n",
        "print(ts.isnull().sum())"
      ]
    },
    {
      "cell_type": "markdown",
      "metadata": {},
      "source": [
        "## Part 2: Database Design and Implementation"
      ]
    },
    {
      "cell_type": "code",
      "execution_count": null,
      "metadata": {},
      "outputs": [],
      "source": [
        "# --- IMPORTANT: Replace with your database credentials ---\n",
        "host = 'localhost'\n",
        "port = '3306'\n",
        "database = 'securecheck'\n",
        "username = 'root'\n",
        "password = 'your_password' # Replace with your password\n",
        "\n",
        "connection_string = f\"mysql+pymysql://{username}:{password}@{host}:{port}/{database}\"\n",
        "engine = create_engine(connection_string)"
      ]
    },
    {
      "cell_type": "markdown",
      "metadata": {},
      "source": [
        "### Insert Cleaned Data into 'traffic_stops' Table"
      ]
    },
    {
      "cell_type": "code",
      "execution_count": null,
      "metadata": {},
      "outputs": [],
      "source": [
        "# Using 'replace' will drop the table if it exists and create a new one.\n",
        "# This is useful for rerunning the notebook without errors.\n",
        "ts.to_sql(name='traffic_stops', con=engine, index=False, if_exists='replace')\n",
        "\n",
        "print(\"\u2705 Data inserted successfully into 'traffic_stops' table!\")"
      ]
    },
    {
      "cell_type": "markdown",
      "metadata": {},
      "source": [
        "## Part 3: SQL Queries"
      ]
    },
    {
      "cell_type": "markdown",
      "metadata": {},
      "source": [
        "#### 1. Gender distribution of drivers"
      ]
    },
    {
      "cell_type": "code",
      "execution_count": null,
      "metadata": {},
      "outputs": [],
      "source": [
        "query1 = \"SELECT driver_gender, COUNT(*) as count FROM traffic_stops GROUP BY driver_gender;\"\n",
        "gender_distribution = pd.read_sql(query1, engine)\n",
        "display(gender_distribution)"
      ]
    },
    {
      "cell_type": "markdown",
      "metadata": {},
      "source": [
        "#### 2. What is the most common violation for each driver race?"
      ]
    },
    {
      "cell_type": "code",
      "execution_count": null,
      "metadata": {},
      "outputs": [],
      "source": [
        "query2 = \"\"\"\n",
        "WITH RankedViolations AS (\n",
        "    SELECT\n",
        "        driver_race,\n",
        "        violation,\n",
        "        COUNT(*) as violation_count,\n",
        "        ROW_NUMBER() OVER(PARTITION BY driver_race ORDER BY COUNT(*) DESC) as rn\n",
        "    FROM traffic_stops\n",
        "    GROUP BY driver_race, violation\n",
        ")\n",
        "SELECT\n",
        "    driver_race,\n",
        "    violation,\n",
        "    violation_count\n",
        "FROM RankedViolations\n",
        "WHERE rn = 1;\n",
        "\"\"\"\n",
        "common_violation_by_race = pd.read_sql(query2, engine)\n",
        "display(common_violation_by_race)"
      ]
    },
    {
      "cell_type": "markdown",
      "metadata": {},
      "source": [
        "#### 3. How does the arrest rate vary by time of day?"
      ]
    },
    {
      "cell_type": "code",
      "execution_count": null,
      "metadata": {},
      "outputs": [],
      "source": [
        "query3 = \"\"\"\n",
        "SELECT\n",
        "    CASE\n",
        "        WHEN HOUR(stop_time) BETWEEN 6 AND 11 THEN 'Morning (6-12)'\n",
        "        WHEN HOUR(stop_time) BETWEEN 12 AND 17 THEN 'Afternoon (12-18)'\n",
        "        WHEN HOUR(stop_time) BETWEEN 18 AND 23 THEN 'Evening (18-24)'\n",
        "        ELSE 'Night (0-6)'\n",
        "    END as time_of_day,\n",
        "    AVG(is_arrested) * 100 as arrest_rate_percent\n",
        "FROM traffic_stops\n",
        "GROUP BY time_of_day\n",
        "ORDER BY arrest_rate_percent DESC;\n",
        "\"\"\"\n",
        "arrest_rate_by_time = pd.read_sql(query3, engine)\n",
        "display(arrest_rate_by_time)"
      ]
    }
  ],
  "metadata": {
    "kernelspec": {
      "display_name": "Python 3",
      "language": "python",
      "name": "python3"
    },
    "language_info": {
      "name": "python",
      "version": "3.9.7"
    }
  },
  "nbformat": 4,
  "nbformat_minor": 4
}